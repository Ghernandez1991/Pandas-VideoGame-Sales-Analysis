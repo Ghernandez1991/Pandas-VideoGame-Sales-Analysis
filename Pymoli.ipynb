{
 "cells": [
  {
   "cell_type": "code",
   "execution_count": 88,
   "metadata": {},
   "outputs": [
    {
     "name": "stdout",
     "output_type": "stream",
     "text": [
      "Heroes of Pymoli Written analysis\n",
      "The data shows several clear trends. When considering demographics, the 20-24 age group stands out. They accounted for twice as much total spending as any other age group. Men dominate the total number of players at roughly 84% of the total unique user names. A sizable portion of the community bought more than one item. There are 780 total purchases, but only 576 unique user names.  A fair chunk of the popultation is purchasing multiple items within the game.While they make up a small percentage of the total players(5.38%),the age group (35-39) actually spent the most per item purchased. This might be expected as most in the age group would have income to spend as opposed to their younger coherts\n"
     ]
    }
   ],
   "source": [
    "print(\"Heroes of Pymoli Written analysis\")\n",
    "print(\"The data shows several clear trends. When considering demographics, the 20-24 age group stands out. They accounted for twice as much total spending as any other age group. Men dominate the total number of players at roughly 84% of the total unique user names. A sizable portion of the community bought more than one item. There are 780 total purchases, but only 576 unique user names.  A fair chunk of the popultation is purchasing multiple items within the game.While they make up a small percentage of the total players(5.38%),the age group (35-39) actually spent the most per item purchased. This might be expected as most in the age group would have income to spend as opposed to their younger coherts\")"
   ]
  },
  {
   "cell_type": "code",
   "execution_count": 61,
   "metadata": {},
   "outputs": [],
   "source": [
    "import pandas as pd\n",
    "import numpy as np\n",
    "from scipy import stats\n",
    "#import dependencies "
   ]
  },
  {
   "cell_type": "code",
   "execution_count": 62,
   "metadata": {},
   "outputs": [],
   "source": [
    "purchase_data = \"purchase_data.csv\"\n",
    "#set variable path"
   ]
  },
  {
   "cell_type": "code",
   "execution_count": 63,
   "metadata": {},
   "outputs": [],
   "source": [
    "purchase_data_df = pd.read_csv(purchase_data)\n",
    "#run variable through csv reader to create data frame\n",
    "\n"
   ]
  },
  {
   "cell_type": "code",
   "execution_count": 64,
   "metadata": {
    "scrolled": true
   },
   "outputs": [
    {
     "data": {
      "text/html": [
       "<div>\n",
       "<style scoped>\n",
       "    .dataframe tbody tr th:only-of-type {\n",
       "        vertical-align: middle;\n",
       "    }\n",
       "\n",
       "    .dataframe tbody tr th {\n",
       "        vertical-align: top;\n",
       "    }\n",
       "\n",
       "    .dataframe thead th {\n",
       "        text-align: right;\n",
       "    }\n",
       "</style>\n",
       "<table border=\"1\" class=\"dataframe\">\n",
       "  <thead>\n",
       "    <tr style=\"text-align: right;\">\n",
       "      <th></th>\n",
       "      <th>Purchase ID</th>\n",
       "      <th>SN</th>\n",
       "      <th>Age</th>\n",
       "      <th>Gender</th>\n",
       "      <th>Item ID</th>\n",
       "      <th>Item Name</th>\n",
       "      <th>Price</th>\n",
       "    </tr>\n",
       "  </thead>\n",
       "  <tbody>\n",
       "    <tr>\n",
       "      <th>0</th>\n",
       "      <td>0</td>\n",
       "      <td>Lisim78</td>\n",
       "      <td>20</td>\n",
       "      <td>Male</td>\n",
       "      <td>108</td>\n",
       "      <td>Extraction, Quickblade Of Trembling Hands</td>\n",
       "      <td>3.53</td>\n",
       "    </tr>\n",
       "    <tr>\n",
       "      <th>1</th>\n",
       "      <td>1</td>\n",
       "      <td>Lisovynya38</td>\n",
       "      <td>40</td>\n",
       "      <td>Male</td>\n",
       "      <td>143</td>\n",
       "      <td>Frenzied Scimitar</td>\n",
       "      <td>1.56</td>\n",
       "    </tr>\n",
       "    <tr>\n",
       "      <th>2</th>\n",
       "      <td>2</td>\n",
       "      <td>Ithergue48</td>\n",
       "      <td>24</td>\n",
       "      <td>Male</td>\n",
       "      <td>92</td>\n",
       "      <td>Final Critic</td>\n",
       "      <td>4.88</td>\n",
       "    </tr>\n",
       "    <tr>\n",
       "      <th>3</th>\n",
       "      <td>3</td>\n",
       "      <td>Chamassasya86</td>\n",
       "      <td>24</td>\n",
       "      <td>Male</td>\n",
       "      <td>100</td>\n",
       "      <td>Blindscythe</td>\n",
       "      <td>3.27</td>\n",
       "    </tr>\n",
       "    <tr>\n",
       "      <th>4</th>\n",
       "      <td>4</td>\n",
       "      <td>Iskosia90</td>\n",
       "      <td>23</td>\n",
       "      <td>Male</td>\n",
       "      <td>131</td>\n",
       "      <td>Fury</td>\n",
       "      <td>1.44</td>\n",
       "    </tr>\n",
       "    <tr>\n",
       "      <th>5</th>\n",
       "      <td>5</td>\n",
       "      <td>Yalae81</td>\n",
       "      <td>22</td>\n",
       "      <td>Male</td>\n",
       "      <td>81</td>\n",
       "      <td>Dreamkiss</td>\n",
       "      <td>3.61</td>\n",
       "    </tr>\n",
       "    <tr>\n",
       "      <th>6</th>\n",
       "      <td>6</td>\n",
       "      <td>Itheria73</td>\n",
       "      <td>36</td>\n",
       "      <td>Male</td>\n",
       "      <td>169</td>\n",
       "      <td>Interrogator, Blood Blade of the Queen</td>\n",
       "      <td>2.18</td>\n",
       "    </tr>\n",
       "    <tr>\n",
       "      <th>7</th>\n",
       "      <td>7</td>\n",
       "      <td>Iskjaskst81</td>\n",
       "      <td>20</td>\n",
       "      <td>Male</td>\n",
       "      <td>162</td>\n",
       "      <td>Abyssal Shard</td>\n",
       "      <td>2.67</td>\n",
       "    </tr>\n",
       "    <tr>\n",
       "      <th>8</th>\n",
       "      <td>8</td>\n",
       "      <td>Undjask33</td>\n",
       "      <td>22</td>\n",
       "      <td>Male</td>\n",
       "      <td>21</td>\n",
       "      <td>Souleater</td>\n",
       "      <td>1.10</td>\n",
       "    </tr>\n",
       "    <tr>\n",
       "      <th>9</th>\n",
       "      <td>9</td>\n",
       "      <td>Chanosian48</td>\n",
       "      <td>35</td>\n",
       "      <td>Other / Non-Disclosed</td>\n",
       "      <td>136</td>\n",
       "      <td>Ghastly Adamantite Protector</td>\n",
       "      <td>3.58</td>\n",
       "    </tr>\n",
       "  </tbody>\n",
       "</table>\n",
       "</div>"
      ],
      "text/plain": [
       "   Purchase ID             SN  Age                 Gender  Item ID  \\\n",
       "0            0        Lisim78   20                   Male      108   \n",
       "1            1    Lisovynya38   40                   Male      143   \n",
       "2            2     Ithergue48   24                   Male       92   \n",
       "3            3  Chamassasya86   24                   Male      100   \n",
       "4            4      Iskosia90   23                   Male      131   \n",
       "5            5        Yalae81   22                   Male       81   \n",
       "6            6      Itheria73   36                   Male      169   \n",
       "7            7    Iskjaskst81   20                   Male      162   \n",
       "8            8      Undjask33   22                   Male       21   \n",
       "9            9    Chanosian48   35  Other / Non-Disclosed      136   \n",
       "\n",
       "                                   Item Name  Price  \n",
       "0  Extraction, Quickblade Of Trembling Hands   3.53  \n",
       "1                          Frenzied Scimitar   1.56  \n",
       "2                               Final Critic   4.88  \n",
       "3                                Blindscythe   3.27  \n",
       "4                                       Fury   1.44  \n",
       "5                                  Dreamkiss   3.61  \n",
       "6     Interrogator, Blood Blade of the Queen   2.18  \n",
       "7                              Abyssal Shard   2.67  \n",
       "8                                  Souleater   1.10  \n",
       "9               Ghastly Adamantite Protector   3.58  "
      ]
     },
     "execution_count": 64,
     "metadata": {},
     "output_type": "execute_result"
    }
   ],
   "source": [
    "purchase_data_df.head(10)\n"
   ]
  },
  {
   "cell_type": "code",
   "execution_count": 65,
   "metadata": {},
   "outputs": [
    {
     "data": {
      "text/html": [
       "<div>\n",
       "<style scoped>\n",
       "    .dataframe tbody tr th:only-of-type {\n",
       "        vertical-align: middle;\n",
       "    }\n",
       "\n",
       "    .dataframe tbody tr th {\n",
       "        vertical-align: top;\n",
       "    }\n",
       "\n",
       "    .dataframe thead th {\n",
       "        text-align: right;\n",
       "    }\n",
       "</style>\n",
       "<table border=\"1\" class=\"dataframe\">\n",
       "  <thead>\n",
       "    <tr style=\"text-align: right;\">\n",
       "      <th></th>\n",
       "      <th>Total Players</th>\n",
       "    </tr>\n",
       "  </thead>\n",
       "  <tbody>\n",
       "    <tr>\n",
       "      <th>0</th>\n",
       "      <td>576</td>\n",
       "    </tr>\n",
       "  </tbody>\n",
       "</table>\n",
       "</div>"
      ],
      "text/plain": [
       "   Total Players\n",
       "0            576"
      ]
     },
     "execution_count": 65,
     "metadata": {},
     "output_type": "execute_result"
    }
   ],
   "source": [
    "\n",
    "#create players df to hold total players  \n",
    "players_df = pd.DataFrame({\n",
    "    \"Total Players\" : [len(purchase_data_df['SN'].unique().tolist())]\n",
    "    })\n",
    "\n",
    "#print the contents of players df to show total players\n",
    "players_df.head()\n"
   ]
  },
  {
   "cell_type": "code",
   "execution_count": 66,
   "metadata": {},
   "outputs": [
    {
     "name": "stdout",
     "output_type": "stream",
     "text": [
      "Purchasing Analysis Total\n"
     ]
    },
    {
     "data": {
      "text/html": [
       "<div>\n",
       "<style scoped>\n",
       "    .dataframe tbody tr th:only-of-type {\n",
       "        vertical-align: middle;\n",
       "    }\n",
       "\n",
       "    .dataframe tbody tr th {\n",
       "        vertical-align: top;\n",
       "    }\n",
       "\n",
       "    .dataframe thead th {\n",
       "        text-align: right;\n",
       "    }\n",
       "</style>\n",
       "<table border=\"1\" class=\"dataframe\">\n",
       "  <thead>\n",
       "    <tr style=\"text-align: right;\">\n",
       "      <th></th>\n",
       "      <th>Number of Unique Items</th>\n",
       "      <th>Average Price</th>\n",
       "      <th>Number of Purchases</th>\n",
       "      <th>Total Revenue</th>\n",
       "    </tr>\n",
       "  </thead>\n",
       "  <tbody>\n",
       "    <tr>\n",
       "      <th>0</th>\n",
       "      <td>179</td>\n",
       "      <td>3.050987</td>\n",
       "      <td>780</td>\n",
       "      <td>2379.77</td>\n",
       "    </tr>\n",
       "  </tbody>\n",
       "</table>\n",
       "</div>"
      ],
      "text/plain": [
       "   Number of Unique Items  Average Price  Number of Purchases  Total Revenue\n",
       "0                     179       3.050987                  780        2379.77"
      ]
     },
     "execution_count": 66,
     "metadata": {},
     "output_type": "execute_result"
    }
   ],
   "source": [
    "print(\"Purchasing Analysis Total\")\n",
    "#create purchasing analysis_df to display desired values\n",
    "purchasing_analysis_df = pd.DataFrame({\"Number of Unique Items\" : [len(purchase_data_df['Item Name'].unique().tolist())], \n",
    "                 \"Average Price\" : [purchase_data_df['Price'].mean()], \"Number of Purchases\" : [purchase_data_df['Purchase ID'].count()],\n",
    "                                    \"Total Revenue\" : [purchase_data_df['Price'].sum()]   \n",
    "                                 })\n",
    "\n",
    "#Display results \n",
    "purchasing_analysis_df\n"
   ]
  },
  {
   "cell_type": "code",
   "execution_count": 67,
   "metadata": {},
   "outputs": [
    {
     "data": {
      "text/plain": [
       "576"
      ]
     },
     "execution_count": 67,
     "metadata": {},
     "output_type": "execute_result"
    }
   ],
   "source": [
    "#Set variable for unique  players \n",
    "total_unique_players = len(purchase_data_df['SN'].unique().tolist())\n",
    "total_unique_players\n"
   ]
  },
  {
   "cell_type": "code",
   "execution_count": 68,
   "metadata": {},
   "outputs": [
    {
     "data": {
      "text/plain": [
       "780"
      ]
     },
     "execution_count": 68,
     "metadata": {},
     "output_type": "execute_result"
    }
   ],
   "source": [
    "#set variable for total players \n",
    "total_players = len(purchase_data_df['Purchase ID'].value_counts())\n",
    "total_players"
   ]
  },
  {
   "cell_type": "code",
   "execution_count": 69,
   "metadata": {},
   "outputs": [
    {
     "name": "stdout",
     "output_type": "stream",
     "text": [
      "Gender Demographics\n"
     ]
    },
    {
     "data": {
      "text/plain": [
       "{'Total Count': [Gender\n",
       "  Female                    81\n",
       "  Male                     484\n",
       "  Other / Non-Disclosed     11\n",
       "  Name: SN, dtype: int64], 'Percentage of players': [Gender\n",
       "  Female                   0.140625\n",
       "  Male                     0.840278\n",
       "  Other / Non-Disclosed    0.019097\n",
       "  Name: SN, dtype: float64]}"
      ]
     },
     "execution_count": 69,
     "metadata": {},
     "output_type": "execute_result"
    }
   ],
   "source": [
    "print(\"Gender Demographics\")\n",
    "\n",
    "purchase_data_df.groupby('Gender')['SN'].nunique() \n",
    "total_count = purchase_data_df.groupby('Gender')['SN'].nunique()\n",
    "percentage_players = purchase_data_df.groupby('Gender')['SN'].nunique()/ total_unique_players\n",
    "\n",
    "data_df = {'Total Count':[purchase_data_df.groupby('Gender')['SN'].nunique() ], 'Percentage of players': [purchase_data_df.groupby('Gender')['SN'].nunique()/ total_unique_players]}\n",
    "\n",
    "data_df\n",
    "\n",
    "#data_df = pd.DataFrame({'Total Count': [total_count], \"Percentage of Players\": [percentage_players]})\n",
    "\n",
    "#data_df.head()"
   ]
  },
  {
   "cell_type": "code",
   "execution_count": 70,
   "metadata": {},
   "outputs": [
    {
     "name": "stdout",
     "output_type": "stream",
     "text": [
      "Purchasing Analysis gender\n"
     ]
    },
    {
     "data": {
      "text/plain": [
       "{'Purchase Count': [                       Purchase ID\n",
       "  Gender                            \n",
       "  Female                         113\n",
       "  Male                           652\n",
       "  Other / Non-Disclosed           15],\n",
       " 'Average Purchase Price': [                       Price\n",
       "  Gender                      \n",
       "  Female                  3.20\n",
       "  Male                    3.02\n",
       "  Other / Non-Disclosed   3.35],\n",
       " 'Total Purchase Value': [                         Price\n",
       "  Gender                        \n",
       "  Female                  361.94\n",
       "  Male                   1967.64\n",
       "  Other / Non-Disclosed    50.19],\n",
       " 'Avg Total Purchase per Person': [Gender\n",
       "  Female                   0.464026\n",
       "  Male                     2.522615\n",
       "  Other / Non-Disclosed    0.064346\n",
       "  Name: Price, dtype: float64]}"
      ]
     },
     "execution_count": 70,
     "metadata": {},
     "output_type": "execute_result"
    }
   ],
   "source": [
    "#group by gender and find total purchases by gender\n",
    "print(\"Purchasing Analysis gender\")\n",
    "#find average price of purchse by gender\n",
    "\n",
    "grouped_by_df = purchase_data_df.groupby(['Gender'])\n",
    "#run formula on column to find average purchase price\n",
    "grouped_by_df[['Price']].mean().round(2)\n",
    "#run formula on colum to find sum of purchase value\n",
    "grouped_by_df[[\"Price\"]].sum().round(2) \n",
    "\n",
    "\n",
    "data_df = {'Purchase Count':[grouped_by_df[[\"Purchase ID\"]].count()], 'Average Purchase Price': [grouped_by_df[['Price']].mean().round(2)], \n",
    "        'Total Purchase Value': [grouped_by_df[[\"Price\"]].sum().round(2)], 'Avg Total Purchase per Person': [grouped_by_df['Price'].sum() / total_players]} \n",
    "  \n",
    "data_df\n",
    "\n",
    "#grouped_by_df = purchase_data_df.groupby(['Gender'])\n",
    "#print(grouped_by_df)\n",
    "#grouped_by_df[[\"Purchase ID\"]].count() "
   ]
  },
  {
   "cell_type": "code",
   "execution_count": 71,
   "metadata": {},
   "outputs": [
    {
     "name": "stdout",
     "output_type": "stream",
     "text": [
      "Age Demographics\n"
     ]
    },
    {
     "data": {
      "text/html": [
       "<div>\n",
       "<style scoped>\n",
       "    .dataframe tbody tr th:only-of-type {\n",
       "        vertical-align: middle;\n",
       "    }\n",
       "\n",
       "    .dataframe tbody tr th {\n",
       "        vertical-align: top;\n",
       "    }\n",
       "\n",
       "    .dataframe thead th {\n",
       "        text-align: right;\n",
       "    }\n",
       "</style>\n",
       "<table border=\"1\" class=\"dataframe\">\n",
       "  <thead>\n",
       "    <tr style=\"text-align: right;\">\n",
       "      <th></th>\n",
       "      <th>nunique</th>\n",
       "      <th>count</th>\n",
       "    </tr>\n",
       "    <tr>\n",
       "      <th>Age</th>\n",
       "      <th></th>\n",
       "      <th></th>\n",
       "    </tr>\n",
       "  </thead>\n",
       "  <tbody>\n",
       "    <tr>\n",
       "      <th>(0, 10]</th>\n",
       "      <td>4</td>\n",
       "      <td>32</td>\n",
       "    </tr>\n",
       "    <tr>\n",
       "      <th>(10, 14]</th>\n",
       "      <td>4</td>\n",
       "      <td>19</td>\n",
       "    </tr>\n",
       "    <tr>\n",
       "      <th>(14, 19]</th>\n",
       "      <td>5</td>\n",
       "      <td>136</td>\n",
       "    </tr>\n",
       "    <tr>\n",
       "      <th>(19, 24]</th>\n",
       "      <td>5</td>\n",
       "      <td>365</td>\n",
       "    </tr>\n",
       "    <tr>\n",
       "      <th>(24, 29]</th>\n",
       "      <td>5</td>\n",
       "      <td>101</td>\n",
       "    </tr>\n",
       "    <tr>\n",
       "      <th>(29, 34]</th>\n",
       "      <td>5</td>\n",
       "      <td>73</td>\n",
       "    </tr>\n",
       "    <tr>\n",
       "      <th>(34, 39]</th>\n",
       "      <td>5</td>\n",
       "      <td>41</td>\n",
       "    </tr>\n",
       "    <tr>\n",
       "      <th>(39, 40]</th>\n",
       "      <td>1</td>\n",
       "      <td>6</td>\n",
       "    </tr>\n",
       "  </tbody>\n",
       "</table>\n",
       "</div>"
      ],
      "text/plain": [
       "          nunique  count\n",
       "Age                     \n",
       "(0, 10]         4     32\n",
       "(10, 14]        4     19\n",
       "(14, 19]        5    136\n",
       "(19, 24]        5    365\n",
       "(24, 29]        5    101\n",
       "(29, 34]        5     73\n",
       "(34, 39]        5     41\n",
       "(39, 40]        1      6"
      ]
     },
     "execution_count": 71,
     "metadata": {},
     "output_type": "execute_result"
    }
   ],
   "source": [
    "print(\"Age Demographics\")\n",
    "\n",
    "\n",
    "bins = [(0, 10, 14, 19, 24, 29, 34, 39, 40)]\n",
    "group_names = ['<10', '10-14', '15-19', '20-24', '25-29', '30-34', '35-39', '40+']\n",
    "#purchase_data_df\n",
    "bins = pd.cut(purchase_data_df['Age'], [0, 10, 14, 19, 24, 29, 34, 39, 40])\n",
    "purchase_data_df.groupby(bins)['Age'].agg(['nunique', 'count'])\n",
    "\n",
    "\n",
    "\n"
   ]
  },
  {
   "cell_type": "code",
   "execution_count": 72,
   "metadata": {},
   "outputs": [
    {
     "name": "stdout",
     "output_type": "stream",
     "text": [
      "['[0 - 10)', '[10 - 15)', '[15 - 20)', '[20 - 25)', '[25 - 30)', '[30 - 35)', '[35 - 40)', '40+']\n"
     ]
    }
   ],
   "source": [
    "age_ranges = ['[0 - 10)'] + [\"[{0} - {1})\".format(age, age + 5) for\n",
    "age in range(10, 40, 5)] + [\"40+\"]\n",
    "print(age_ranges)"
   ]
  },
  {
   "cell_type": "code",
   "execution_count": 73,
   "metadata": {},
   "outputs": [
    {
     "name": "stdout",
     "output_type": "stream",
     "text": [
      "576\n"
     ]
    },
    {
     "name": "stderr",
     "output_type": "stream",
     "text": [
      "C:\\Users\\beach\\Anaconda3\\lib\\site-packages\\ipykernel_launcher.py:4: SettingWithCopyWarning: \n",
      "A value is trying to be set on a copy of a slice from a DataFrame.\n",
      "Try using .loc[row_indexer,col_indexer] = value instead\n",
      "\n",
      "See the caveats in the documentation: http://pandas.pydata.org/pandas-docs/stable/indexing.html#indexing-view-versus-copy\n",
      "  after removing the cwd from sys.path.\n"
     ]
    },
    {
     "data": {
      "text/plain": [
       "[20 - 25)    200\n",
       "[15 - 20)    169\n",
       "[10 - 15)     59\n",
       "[25 - 30)     48\n",
       "[30 - 35)     37\n",
       "[0 - 10)      30\n",
       "[35 - 40)     26\n",
       "40+            7\n",
       "Name: age_range, dtype: int64"
      ]
     },
     "execution_count": 73,
     "metadata": {},
     "output_type": "execute_result"
    }
   ],
   "source": [
    "\n",
    "count_unique_age_ranges = len(age_ranges)\n",
    "purchase_data_unique_SN_df = purchase_data_df.drop_duplicates(subset=\"SN\")\n",
    "purchase_data_unique_SN_df['age_range'] = pd.cut(x=purchase_data_unique_SN_df['Age'],bins=count_unique_age_ranges, labels=age_ranges)\n",
    "\n",
    "print(purchase_data_unique_SN_df['age_range'].value_counts().sum())\n",
    "purchase_data_unique_SN_df['age_range'].value_counts()\n"
   ]
  },
  {
   "cell_type": "code",
   "execution_count": 74,
   "metadata": {},
   "outputs": [
    {
     "data": {
      "text/html": [
       "<div>\n",
       "<style scoped>\n",
       "    .dataframe tbody tr th:only-of-type {\n",
       "        vertical-align: middle;\n",
       "    }\n",
       "\n",
       "    .dataframe tbody tr th {\n",
       "        vertical-align: top;\n",
       "    }\n",
       "\n",
       "    .dataframe thead th {\n",
       "        text-align: right;\n",
       "    }\n",
       "</style>\n",
       "<table border=\"1\" class=\"dataframe\">\n",
       "  <thead>\n",
       "    <tr style=\"text-align: right;\">\n",
       "      <th></th>\n",
       "      <th>Purchase ID</th>\n",
       "      <th>SN</th>\n",
       "      <th>Age</th>\n",
       "      <th>Gender</th>\n",
       "      <th>Item ID</th>\n",
       "      <th>Item Name</th>\n",
       "      <th>Price</th>\n",
       "    </tr>\n",
       "  </thead>\n",
       "  <tbody>\n",
       "    <tr>\n",
       "      <th>0</th>\n",
       "      <td>0</td>\n",
       "      <td>Lisim78</td>\n",
       "      <td>20</td>\n",
       "      <td>Male</td>\n",
       "      <td>108</td>\n",
       "      <td>Extraction, Quickblade Of Trembling Hands</td>\n",
       "      <td>3.53</td>\n",
       "    </tr>\n",
       "    <tr>\n",
       "      <th>1</th>\n",
       "      <td>1</td>\n",
       "      <td>Lisovynya38</td>\n",
       "      <td>40</td>\n",
       "      <td>Male</td>\n",
       "      <td>143</td>\n",
       "      <td>Frenzied Scimitar</td>\n",
       "      <td>1.56</td>\n",
       "    </tr>\n",
       "    <tr>\n",
       "      <th>2</th>\n",
       "      <td>2</td>\n",
       "      <td>Ithergue48</td>\n",
       "      <td>24</td>\n",
       "      <td>Male</td>\n",
       "      <td>92</td>\n",
       "      <td>Final Critic</td>\n",
       "      <td>4.88</td>\n",
       "    </tr>\n",
       "    <tr>\n",
       "      <th>3</th>\n",
       "      <td>3</td>\n",
       "      <td>Chamassasya86</td>\n",
       "      <td>24</td>\n",
       "      <td>Male</td>\n",
       "      <td>100</td>\n",
       "      <td>Blindscythe</td>\n",
       "      <td>3.27</td>\n",
       "    </tr>\n",
       "    <tr>\n",
       "      <th>4</th>\n",
       "      <td>4</td>\n",
       "      <td>Iskosia90</td>\n",
       "      <td>23</td>\n",
       "      <td>Male</td>\n",
       "      <td>131</td>\n",
       "      <td>Fury</td>\n",
       "      <td>1.44</td>\n",
       "    </tr>\n",
       "  </tbody>\n",
       "</table>\n",
       "</div>"
      ],
      "text/plain": [
       "   Purchase ID             SN  Age Gender  Item ID  \\\n",
       "0            0        Lisim78   20   Male      108   \n",
       "1            1    Lisovynya38   40   Male      143   \n",
       "2            2     Ithergue48   24   Male       92   \n",
       "3            3  Chamassasya86   24   Male      100   \n",
       "4            4      Iskosia90   23   Male      131   \n",
       "\n",
       "                                   Item Name  Price  \n",
       "0  Extraction, Quickblade Of Trembling Hands   3.53  \n",
       "1                          Frenzied Scimitar   1.56  \n",
       "2                               Final Critic   4.88  \n",
       "3                                Blindscythe   3.27  \n",
       "4                                       Fury   1.44  "
      ]
     },
     "execution_count": 74,
     "metadata": {},
     "output_type": "execute_result"
    }
   ],
   "source": [
    "purchase_data_df.head()"
   ]
  },
  {
   "cell_type": "code",
   "execution_count": 85,
   "metadata": {},
   "outputs": [
    {
     "name": "stdout",
     "output_type": "stream",
     "text": [
      "Purchase count \n",
      "<10       23\n",
      "10-14     28\n",
      "15-19    136\n",
      "20-24    365\n",
      "25-29    101\n",
      "30-34     73\n",
      "35-39     41\n",
      "40+        6\n",
      "Name: Purchase ID, dtype: int64\n",
      "Average purchase price \n",
      "<10      3.35\n",
      "10-14    2.96\n",
      "15-19    3.04\n",
      "20-24    3.05\n",
      "25-29    2.90\n",
      "30-34    2.93\n",
      "35-39    3.60\n",
      "40+      2.78\n",
      "Name: Price, dtype: float64\n",
      "Total Purchase Value \n",
      "<10        77.13\n",
      "10-14      82.78\n",
      "15-19     412.89\n",
      "20-24    1114.06\n",
      "25-29     293.00\n",
      "30-34     214.00\n",
      "35-39     147.67\n",
      "40+        16.71\n",
      "Name: Price, dtype: float64\n"
     ]
    },
    {
     "data": {
      "text/html": [
       "<div>\n",
       "<style scoped>\n",
       "    .dataframe tbody tr th:only-of-type {\n",
       "        vertical-align: middle;\n",
       "    }\n",
       "\n",
       "    .dataframe tbody tr th {\n",
       "        vertical-align: top;\n",
       "    }\n",
       "\n",
       "    .dataframe thead th {\n",
       "        text-align: right;\n",
       "    }\n",
       "</style>\n",
       "<table border=\"1\" class=\"dataframe\">\n",
       "  <thead>\n",
       "    <tr style=\"text-align: right;\">\n",
       "      <th></th>\n",
       "      <th>Purchase Count</th>\n",
       "      <th>Average Purchase Price</th>\n",
       "      <th>Total Purchase Value</th>\n",
       "      <th>Average Total Purchase per Person</th>\n",
       "    </tr>\n",
       "  </thead>\n",
       "  <tbody>\n",
       "    <tr>\n",
       "      <th>0</th>\n",
       "      <td>&lt;10       23\n",
       "10-14     28\n",
       "15-19    136\n",
       "20-24 ...</td>\n",
       "      <td>&lt;10      3.35\n",
       "10-14    2.96\n",
       "15-19    3.04\n",
       "20-...</td>\n",
       "      <td>&lt;10        77.13\n",
       "10-14      82.78\n",
       "15-19     4...</td>\n",
       "      <td>&lt;10        77.13\n",
       "10-14      82.78\n",
       "15-19     4...</td>\n",
       "    </tr>\n",
       "  </tbody>\n",
       "</table>\n",
       "</div>"
      ],
      "text/plain": [
       "                                      Purchase Count  \\\n",
       "0  \n",
       "<10       23\n",
       "10-14     28\n",
       "15-19    136\n",
       "20-24 ...   \n",
       "\n",
       "                              Average Purchase Price  \\\n",
       "0  \n",
       "<10      3.35\n",
       "10-14    2.96\n",
       "15-19    3.04\n",
       "20-...   \n",
       "\n",
       "                                Total Purchase Value  \\\n",
       "0  \n",
       "<10        77.13\n",
       "10-14      82.78\n",
       "15-19     4...   \n",
       "\n",
       "                   Average Total Purchase per Person  \n",
       "0  \n",
       "<10        77.13\n",
       "10-14      82.78\n",
       "15-19     4...  "
      ]
     },
     "execution_count": 85,
     "metadata": {},
     "output_type": "execute_result"
    }
   ],
   "source": [
    "#pur_count = purchase_data_df[\"Purchase ID\"].count()\n",
    "#av_purc_pric = purchase_data_df[\"Price\"].mean().round(2)\n",
    "#tot_pur_val = purchase_data_df[\"Price\"].sum().round(2)\n",
    "\n",
    "#print(\"Purchasing Analysis Age\")\n",
    "# initialise data of lists. \n",
    "#data = {'Purchase Count':['0', '0', '0', '0', '0', '0', '0', '0'], 'Average Purchase Price': ['0', '0', '0', '0', '0', '0', '0', '0'], \n",
    "        #'Total Purchase Value': ['0', '0', '0', '0', '0', '0', '0', '0'], 'Avg Total Purchase per Person': ['0', '0', '0', '0', '0', '0', '0', '0']} \n",
    "#data = {'Purchase Count':[pur_count], 'Average Purchase Price': [av_purc_pric], \n",
    "        #'Total Purchase Value': [tot_pur_val], 'Avg Total Purchase per Person': ['0', '0', '0', '0', '0', '0', '0', '0']} \n",
    "\n",
    "# Creates pandas DataFrame. \n",
    "#df = pd.DataFrame(data, index =['10-14', '15-19', '20-24', '25-29', '30-34', '35-39', '40+','<10']) \n",
    " \n",
    "bins = [0, 9, 14, 19, 24, 29, 34, 39, 40]\n",
    "group_names = ['<10', '10-14', '15-19', '20-24', '25-29', '30-34', '35-39', '40+'] \n",
    "   \n",
    "#purchase_data_df.groupby('Age').    \n",
    "\n",
    "#purchase_data_df[\"\"] = pd.cut(purchase_data_df['Age'], bins, labels=group_names)\n",
    "#purchase_data_df = purchase_data_df.groupby(\"\")\n",
    "\n",
    "pur_count = purchase_data_df[\"Purchase ID\"].count()\n",
    "print(\"Purchase count\",pur_count)\n",
    "\n",
    "\n",
    "av_purc_pric = purchase_data_df[\"Price\"].mean().round(2)\n",
    "print(\"Average purchase price\", av_purc_pric)\n",
    "\n",
    "tot_pur_val = purchase_data_df[\"Price\"].sum().round(2)\n",
    "print(\"Total Purchase Value\", tot_pur_val)\n",
    "ave_tot = purchase_data_df['Price'].sum()\n",
    "\n",
    "\n",
    "final_df = pd.DataFrame([[pur_count, av_purc_pric, tot_pur_val, ave_tot ]],columns=['Purchase Count','Average Purchase Price','Total Purchase Value','Average Total Purchase per Person'])\n",
    "final_df\n"
   ]
  },
  {
   "cell_type": "code",
   "execution_count": null,
   "metadata": {},
   "outputs": [],
   "source": []
  }
 ],
 "metadata": {
  "kernelspec": {
   "display_name": "Python 3",
   "language": "python",
   "name": "python3"
  },
  "language_info": {
   "codemirror_mode": {
    "name": "ipython",
    "version": 3
   },
   "file_extension": ".py",
   "mimetype": "text/x-python",
   "name": "python",
   "nbconvert_exporter": "python",
   "pygments_lexer": "ipython3",
   "version": "3.7.3"
  }
 },
 "nbformat": 4,
 "nbformat_minor": 2
}

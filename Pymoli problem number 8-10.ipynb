{
 "cells": [
  {
   "cell_type": "code",
   "execution_count": 145,
   "metadata": {},
   "outputs": [],
   "source": [
    "import pandas as pd\n",
    "import numpy as np\n",
    "from scipy import stats"
   ]
  },
  {
   "cell_type": "code",
   "execution_count": 146,
   "metadata": {},
   "outputs": [],
   "source": [
    "purchase_data = \"purchase_data.csv\""
   ]
  },
  {
   "cell_type": "code",
   "execution_count": 162,
   "metadata": {},
   "outputs": [],
   "source": [
    "purchase_data_df = pd.read_csv(purchase_data)\n",
    "#purchase_data_df"
   ]
  },
  {
   "cell_type": "code",
   "execution_count": 148,
   "metadata": {},
   "outputs": [
    {
     "data": {
      "text/html": [
       "<div>\n",
       "<style scoped>\n",
       "    .dataframe tbody tr th:only-of-type {\n",
       "        vertical-align: middle;\n",
       "    }\n",
       "\n",
       "    .dataframe tbody tr th {\n",
       "        vertical-align: top;\n",
       "    }\n",
       "\n",
       "    .dataframe thead th {\n",
       "        text-align: right;\n",
       "    }\n",
       "</style>\n",
       "<table border=\"1\" class=\"dataframe\">\n",
       "  <thead>\n",
       "    <tr style=\"text-align: right;\">\n",
       "      <th></th>\n",
       "      <th>Purchase ID</th>\n",
       "      <th>Age</th>\n",
       "      <th>Gender</th>\n",
       "      <th>Item ID</th>\n",
       "      <th>Item Name</th>\n",
       "      <th>Price</th>\n",
       "    </tr>\n",
       "    <tr>\n",
       "      <th>SN</th>\n",
       "      <th></th>\n",
       "      <th></th>\n",
       "      <th></th>\n",
       "      <th></th>\n",
       "      <th></th>\n",
       "      <th></th>\n",
       "    </tr>\n",
       "  </thead>\n",
       "  <tbody>\n",
       "    <tr>\n",
       "      <th>Lisim78</th>\n",
       "      <td>0</td>\n",
       "      <td>20</td>\n",
       "      <td>Male</td>\n",
       "      <td>108</td>\n",
       "      <td>Extraction, Quickblade Of Trembling Hands</td>\n",
       "      <td>3.53</td>\n",
       "    </tr>\n",
       "    <tr>\n",
       "      <th>Lisovynya38</th>\n",
       "      <td>1</td>\n",
       "      <td>40</td>\n",
       "      <td>Male</td>\n",
       "      <td>143</td>\n",
       "      <td>Frenzied Scimitar</td>\n",
       "      <td>1.56</td>\n",
       "    </tr>\n",
       "    <tr>\n",
       "      <th>Ithergue48</th>\n",
       "      <td>2</td>\n",
       "      <td>24</td>\n",
       "      <td>Male</td>\n",
       "      <td>92</td>\n",
       "      <td>Final Critic</td>\n",
       "      <td>4.88</td>\n",
       "    </tr>\n",
       "    <tr>\n",
       "      <th>Chamassasya86</th>\n",
       "      <td>3</td>\n",
       "      <td>24</td>\n",
       "      <td>Male</td>\n",
       "      <td>100</td>\n",
       "      <td>Blindscythe</td>\n",
       "      <td>3.27</td>\n",
       "    </tr>\n",
       "    <tr>\n",
       "      <th>Iskosia90</th>\n",
       "      <td>4</td>\n",
       "      <td>23</td>\n",
       "      <td>Male</td>\n",
       "      <td>131</td>\n",
       "      <td>Fury</td>\n",
       "      <td>1.44</td>\n",
       "    </tr>\n",
       "  </tbody>\n",
       "</table>\n",
       "</div>"
      ],
      "text/plain": [
       "               Purchase ID  Age Gender  Item ID  \\\n",
       "SN                                                \n",
       "Lisim78                  0   20   Male      108   \n",
       "Lisovynya38              1   40   Male      143   \n",
       "Ithergue48               2   24   Male       92   \n",
       "Chamassasya86            3   24   Male      100   \n",
       "Iskosia90                4   23   Male      131   \n",
       "\n",
       "                                               Item Name  Price  \n",
       "SN                                                               \n",
       "Lisim78        Extraction, Quickblade Of Trembling Hands   3.53  \n",
       "Lisovynya38                            Frenzied Scimitar   1.56  \n",
       "Ithergue48                                  Final Critic   4.88  \n",
       "Chamassasya86                                Blindscythe   3.27  \n",
       "Iskosia90                                           Fury   1.44  "
      ]
     },
     "execution_count": 148,
     "metadata": {},
     "output_type": "execute_result"
    }
   ],
   "source": [
    "#purchase_data_df.groupby('SN').SN.value_counts()\n",
    "sn_group_df = purchase_data_df.set_index('SN')\n",
    "sn_group_df.head()\n"
   ]
  },
  {
   "cell_type": "code",
   "execution_count": 149,
   "metadata": {},
   "outputs": [
    {
     "name": "stdout",
     "output_type": "stream",
     "text": [
      "Purchase Count 5 Total purchase value Lisosia93 18.96 Average Purchase Price 3.7920000000000003\n",
      "Purchase Count 4 Total purchase value Idastidru52 15.45 Average Purchase Price 3.8625\n",
      "Purchase Count 3 Total purchase value Chamjask73 13.83 Average Purchase Price 4.61\n",
      "Purchase Count 4 Total purchase value Iral74 13.619999999999997 Average Purchase Price 3.4049999999999994\n",
      "Purchase Count 3 Total purchase value Iskadarya95 13.1 Average Purchase Price 4.366666666666666\n"
     ]
    }
   ],
   "source": [
    "Lisosia93 = sn_group_df.loc[\"Lisosia93\", \"Price\" ]\n",
    "A = sn_group_df.loc[\"Lisosia93\", \"Purchase ID\" ]\n",
    "print(\"Purchase Count\", A.count(),\"Total purchase value Lisosia93\", Lisosia93.sum(), \"Average Purchase Price\", Lisosia93.mean())\n",
    "\n",
    "Idastidru52 = sn_group_df.loc[\"Idastidru52\", \"Price\" ]\n",
    "B = sn_group_df.loc[\"Idastidru52\", \"Purchase ID\" ]\n",
    "print(\"Purchase Count\", B.count(),\"Total purchase value Idastidru52\", Idastidru52.sum(), \"Average Purchase Price\", Idastidru52.mean())\n",
    "\n",
    "Chamjask73 = sn_group_df.loc[\"Chamjask73\", \"Price\"]\n",
    "C = sn_group_df.loc[\"Chamjask73\", \"Purchase ID\" ]\n",
    "print(\"Purchase Count\", C.count(),\"Total purchase value Chamjask73\", Chamjask73.sum(), \"Average Purchase Price\", Chamjask73.mean())\n",
    "\n",
    "Iral74 = sn_group_df.loc[\"Iral74\", \"Price\"]\n",
    "D = sn_group_df.loc[\"Iral74\", \"Purchase ID\" ]\n",
    "print(\"Purchase Count\", D.count(),\"Total purchase value Iral74\", Iral74.sum(),  \"Average Purchase Price\", Iral74.mean())\n",
    "\n",
    "Iskadarya95 = sn_group_df.loc[\"Iskadarya95\", \"Price\"]\n",
    "E = sn_group_df.loc[\"Iskadarya95\", \"Purchase ID\" ]\n",
    "print(\"Purchase Count\", E.count(),\"Total purchase value Iskadarya95\", Iskadarya95.sum(),  \"Average Purchase Price\", Iskadarya95.mean())\n",
    "\n"
   ]
  },
  {
   "cell_type": "code",
   "execution_count": 150,
   "metadata": {},
   "outputs": [
    {
     "data": {
      "text/html": [
       "<div>\n",
       "<style scoped>\n",
       "    .dataframe tbody tr th:only-of-type {\n",
       "        vertical-align: middle;\n",
       "    }\n",
       "\n",
       "    .dataframe tbody tr th {\n",
       "        vertical-align: top;\n",
       "    }\n",
       "\n",
       "    .dataframe thead th {\n",
       "        text-align: right;\n",
       "    }\n",
       "</style>\n",
       "<table border=\"1\" class=\"dataframe\">\n",
       "  <thead>\n",
       "    <tr style=\"text-align: right;\">\n",
       "      <th></th>\n",
       "      <th></th>\n",
       "      <th>Purchase ID</th>\n",
       "      <th>SN</th>\n",
       "      <th>Age</th>\n",
       "      <th>Gender</th>\n",
       "      <th>Price</th>\n",
       "    </tr>\n",
       "    <tr>\n",
       "      <th>Item ID</th>\n",
       "      <th>Item Name</th>\n",
       "      <th></th>\n",
       "      <th></th>\n",
       "      <th></th>\n",
       "      <th></th>\n",
       "      <th></th>\n",
       "    </tr>\n",
       "  </thead>\n",
       "  <tbody>\n",
       "    <tr>\n",
       "      <th rowspan=\"4\" valign=\"top\">0</th>\n",
       "      <th>Splinter</th>\n",
       "      <td>133</td>\n",
       "      <td>Phaena87</td>\n",
       "      <td>20</td>\n",
       "      <td>Male</td>\n",
       "      <td>1.28</td>\n",
       "    </tr>\n",
       "    <tr>\n",
       "      <th>Splinter</th>\n",
       "      <td>150</td>\n",
       "      <td>Inasti31</td>\n",
       "      <td>17</td>\n",
       "      <td>Male</td>\n",
       "      <td>1.28</td>\n",
       "    </tr>\n",
       "    <tr>\n",
       "      <th>Splinter</th>\n",
       "      <td>204</td>\n",
       "      <td>Chamimla85</td>\n",
       "      <td>16</td>\n",
       "      <td>Male</td>\n",
       "      <td>1.28</td>\n",
       "    </tr>\n",
       "    <tr>\n",
       "      <th>Splinter</th>\n",
       "      <td>662</td>\n",
       "      <td>Mindilsa60</td>\n",
       "      <td>21</td>\n",
       "      <td>Male</td>\n",
       "      <td>1.28</td>\n",
       "    </tr>\n",
       "    <tr>\n",
       "      <th>1</th>\n",
       "      <th>Crucifer</th>\n",
       "      <td>121</td>\n",
       "      <td>Ilosia37</td>\n",
       "      <td>23</td>\n",
       "      <td>Male</td>\n",
       "      <td>3.26</td>\n",
       "    </tr>\n",
       "  </tbody>\n",
       "</table>\n",
       "</div>"
      ],
      "text/plain": [
       "                   Purchase ID          SN  Age Gender  Price\n",
       "Item ID Item Name                                            \n",
       "0       Splinter           133    Phaena87   20   Male   1.28\n",
       "        Splinter           150    Inasti31   17   Male   1.28\n",
       "        Splinter           204  Chamimla85   16   Male   1.28\n",
       "        Splinter           662  Mindilsa60   21   Male   1.28\n",
       "1       Crucifer           121    Ilosia37   23   Male   3.26"
      ]
     },
     "execution_count": 150,
     "metadata": {},
     "output_type": "execute_result"
    }
   ],
   "source": [
    "item_df = purchase_data_df.set_index(['Item ID','Item Name'])\n",
    "item_df.sort_index(inplace=True)\n",
    "item_df.head()\n"
   ]
  },
  {
   "cell_type": "code",
   "execution_count": 173,
   "metadata": {},
   "outputs": [
    {
     "name": "stdout",
     "output_type": "stream",
     "text": [
      "Oathbreaker\n",
      "Purchase count 12\n",
      "Item Price 4.23\n",
      "Total Purchase Value 50.760000000000005\n"
     ]
    }
   ],
   "source": [
    "\n",
    "\n",
    "print(\"Oathbreaker\")\n",
    "\n",
    "item_df.xs('Oathbreaker, Last Hope of the Breaking Storm', level=1, drop_level=False)\n",
    "oathbreaker_df= item_df.xs('Oathbreaker, Last Hope of the Breaking Storm', level=1, drop_level=False)\n",
    "print(\"Purchase count\",oathbreaker_df['Purchase ID'].count())\n",
    "print(\"Item Price\", oathbreaker_df['Price'].max())\n",
    "print(\"Total Purchase Value\", oathbreaker_df['Price'].max()*oathbreaker_df['Purchase ID'].count())\n",
    "\n",
    "\n",
    "\n"
   ]
  },
  {
   "cell_type": "code",
   "execution_count": 174,
   "metadata": {},
   "outputs": [
    {
     "name": "stdout",
     "output_type": "stream",
     "text": [
      "Purchase count 9\n",
      "Item Price 4.58\n",
      "Total Purchase Value 41.22\n"
     ]
    }
   ],
   "source": [
    "item_df.xs('Fiery Glass Crusader', level=1, drop_level=False)\n",
    "\n",
    "fiery_df= item_df.xs('Fiery Glass Crusader', level=1, drop_level=False)\n",
    "print(\"Purchase count\",fiery_df['Purchase ID'].count())\n",
    "print(\"Item Price\", fiery_df['Price'].max())\n",
    "print(\"Total Purchase Value\", fiery_df['Price'].max()*fiery_df['Purchase ID'].count())\n"
   ]
  },
  {
   "cell_type": "code",
   "execution_count": 175,
   "metadata": {},
   "outputs": [
    {
     "name": "stdout",
     "output_type": "stream",
     "text": [
      "Purchase count 9\n",
      "Item Price 3.53\n",
      "Total Purchase Value 31.77\n"
     ]
    }
   ],
   "source": [
    "item_df.xs('Extraction, Quickblade Of Trembling Hands', level=1, drop_level=False)\n",
    "extract_df= item_df.xs('Extraction, Quickblade Of Trembling Hands', level=1, drop_level=False)\n",
    "print(\"Purchase count\",extract_df['Purchase ID'].count())\n",
    "print(\"Item Price\", extract_df['Price'].max())\n",
    "print(\"Total Purchase Value\", extract_df['Price'].max()*extract_df['Purchase ID'].count())"
   ]
  },
  {
   "cell_type": "code",
   "execution_count": 176,
   "metadata": {},
   "outputs": [
    {
     "name": "stdout",
     "output_type": "stream",
     "text": [
      "Purchase count 9\n",
      "Item Price 4.9\n",
      "Total Purchase Value 44.1\n"
     ]
    }
   ],
   "source": [
    "item_df.xs('Nirvana', level=1, drop_level=False)\n",
    "nir_df= item_df.xs('Nirvana', level=1, drop_level=False)\n",
    "print(\"Purchase count\",nir_df['Purchase ID'].count())\n",
    "print(\"Item Price\", nir_df['Price'].max())\n",
    "print(\"Total Purchase Value\", nir_df['Price'].max()*nir_df['Purchase ID'].count())"
   ]
  },
  {
   "cell_type": "code",
   "execution_count": 177,
   "metadata": {},
   "outputs": [
    {
     "name": "stdout",
     "output_type": "stream",
     "text": [
      "Purchase count 8\n",
      "Item Price 1.02\n",
      "Total Purchase Value 8.16\n"
     ]
    }
   ],
   "source": [
    "item_df.xs('Pursuit, Cudgel of Necromancy', level=1, drop_level=False)\n",
    "pur_df= item_df.xs('Pursuit, Cudgel of Necromancy', level=1, drop_level=False)\n",
    "print(\"Purchase count\",pur_df['Purchase ID'].count())\n",
    "print(\"Item Price\", pur_df['Price'].max())\n",
    "print(\"Total Purchase Value\", pur_df['Price'].max()*pur_df['Purchase ID'].count())"
   ]
  },
  {
   "cell_type": "code",
   "execution_count": null,
   "metadata": {},
   "outputs": [],
   "source": []
  }
 ],
 "metadata": {
  "kernelspec": {
   "display_name": "Python 3",
   "language": "python",
   "name": "python3"
  },
  "language_info": {
   "codemirror_mode": {
    "name": "ipython",
    "version": 3
   },
   "file_extension": ".py",
   "mimetype": "text/x-python",
   "name": "python",
   "nbconvert_exporter": "python",
   "pygments_lexer": "ipython3",
   "version": "3.7.3"
  }
 },
 "nbformat": 4,
 "nbformat_minor": 2
}
